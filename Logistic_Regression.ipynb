{
 "cells": [
  {
   "cell_type": "markdown",
   "metadata": {},
   "source": [
    "#                          Logistic Regression for MNIST"
   ]
  },
  {
   "cell_type": "code",
   "execution_count": 323,
   "metadata": {},
   "outputs": [],
   "source": [
    "%matplotlib inline\n",
    "import numpy as np\n",
    "import matplotlib.pyplot as plt\n",
    "from keras.datasets import mnist\n",
    "from keras.utils import np_utils\n",
    "from sklearn.model_selection import train_test_split\n"
   ]
  },
  {
   "cell_type": "markdown",
   "metadata": {},
   "source": [
    "### SOFTMAX\n",
    "\n",
    "#### Softmax = exp(a)/sum(exp(a)\n",
    "\n",
    " _To bound the softmax values within float:_  \n",
    " \n",
    " #### Softmax = exp(a-max(a))/sum(exp(a))\n",
    "\n"
   ]
  },
  {
   "cell_type": "code",
   "execution_count": 324,
   "metadata": {},
   "outputs": [],
   "source": [
    "\n",
    "def softmax(z):\n",
    "   \n",
    "    z-=np.max(z)         # normalize to avoid exp overflow when value exceeds float64 upper bound\n",
    "    exps    = np.exp(z)\n",
    "    softmax = exps / np.sum(exps,axis = 1,keepdims =True)           #Keeps original dimensions of the input vector,so keepdims = True\n",
    "    return softmax              #[N x K]\n",
    "\n"
   ]
  },
  {
   "cell_type": "markdown",
   "metadata": {},
   "source": [
    "### Cross entropy error\n",
    "\n",
    "_Cross Entropy error is the negative log likelyhood_\n",
    "\n",
    "_Get the label (one-hot encoded vectors) : index [ max of label ] corresponds to the class_\n"
   ]
  },
  {
   "cell_type": "code",
   "execution_count": 325,
   "metadata": {},
   "outputs": [],
   "source": [
    "def cross_entropy_error(input,no_of_images,label ):\n",
    "    class_indices = None\n",
    "    logprobs = []\n",
    "    s = softmax(input)\n",
    "    class_indices = label.argmax(axis=1)\n",
    "    \n",
    "    for index in range(no_of_images):\n",
    "        logprobs.append(-np.log(s[index,class_indices[index]]))\n",
    "\n",
    "    CE_error = np.sum(logprobs)/no_of_images\n",
    "    return CE_error\n",
    "\n"
   ]
  },
  {
   "cell_type": "markdown",
   "metadata": {},
   "source": [
    "### Calculate Gradients\n",
    "\n",
    "_To Calculate dervivative of log likelihood_\n",
    "\n",
    "_input to function is \"pred= wTx + b\"\n",
    "_grad = softmax(pred)-1\n",
    "_Remember label is onehot encoded vector with 1 @ class index_\n",
    "\n",
    "\n"
   ]
  },
  {
   "cell_type": "code",
   "execution_count": 410,
   "metadata": {},
   "outputs": [],
   "source": [
    "def calculate_grad(input,no_of_images,label):\n",
    "\n",
    "    grad = softmax(input)\n",
    "    class_indices = None\n",
    "\n",
    "    class_indices = label.argmax(axis=1)\n",
    "    #Use argmax of output label matrix\n",
    "    for index in range(no_of_images):\n",
    "        grad[index,class_indices[index]] -= 1\n",
    "  \n",
    "    #Normalizing the gradients\n",
    "    grad= grad /no_of_images\n",
    "    return grad\n",
    "\n",
    "\n"
   ]
  },
  {
   "cell_type": "markdown",
   "metadata": {},
   "source": [
    "### Calculate Accuracy\n",
    "\n",
    "_Get the positions of max value in prediction and compare with y_class of the corresponding label to get the accuracy "
   ]
  },
  {
   "cell_type": "code",
   "execution_count": 358,
   "metadata": {},
   "outputs": [],
   "source": [
    "def accuracy(input,output,W,W0):\n",
    "    predicted_class = None\n",
    "    pred = softmax(np.dot(input[:],W)+W0)\n",
    "    predicted_class = np.argmax(pred,axis = 1)\n",
    "    #output_label is in form of one-hot encoded vectors of labels \n",
    "    #So taking argmax(axis=1) in order to convert into [N x 1] matrix\n",
    "    y_class = np.argmax(output[:],axis = 1)\n",
    "    result =  np.mean(predicted_class == y_class)\n",
    "    return result"
   ]
  },
  {
   "cell_type": "markdown",
   "metadata": {},
   "source": [
    "## Stochastic Gradient Descent\n",
    "\n",
    "__Batch wise gradient Descent approach for faster convergence__"
   ]
  },
  {
   "cell_type": "code",
   "execution_count": 409,
   "metadata": {},
   "outputs": [],
   "source": [
    "def sgd(X_train,Y_train,batch_size,lr,itr,display_error=0):\n",
    "\n",
    "    X ,Xval,Y,Yval = train_test_split(X_train, Y_train, test_size=1/6)\n",
    "\n",
    "     \n",
    "    #initialize random weights and bias\n",
    "    print(\"\\n batch size :{}\".format(batch_size))       \n",
    "    batches = []\n",
    "    for b in range(0,X.shape[0],batch_size):\n",
    "        batches.append((X[b:b + batch_size], Y[b:b + batch_size]))\n",
    "    \n",
    "    train_loss_list =[]\n",
    "    val_loss_list = []\n",
    "\n",
    "    train_likelihood = []\n",
    "    val_likelihood = []\n",
    "    \n",
    "    train_accuracy = []\n",
    "    val_accuracy = []\n",
    "\n",
    "    X_val=Xval[:]\n",
    "    Y_val=Yval[:]\n",
    "    #Output in the form of One hot encoding vector form\n",
    "    W = 0.01 *np.random.randn(X.shape[1],Y.shape[1])\n",
    "    \n",
    "    b = np.zeros(shape = (1,W.shape[1]))\n",
    "    itr_counters = 0;\n",
    "\n",
    "    for i in range(itr):\n",
    "        itr_loss     = []          #Error of each iteration saved\n",
    "        t_accuracy = []\n",
    "        v_accuracy = []\n",
    "        itr_counters = i\n",
    "        batch_no=0\n",
    "        \n",
    "        for (Xbatch,Ybatch) in batches:\n",
    "            batch_no+=1\n",
    "            \n",
    "            input = np.dot(Xbatch,W) + b\n",
    "            batch_images_count = Xbatch.shape[0] \n",
    "\n",
    "            #calculate cross Entropy loss\n",
    "            loss = cross_entropy_error(input,batch_images_count,Ybatch)\n",
    "            itr_loss.append(loss)\n",
    "            #calculate gradient \n",
    "            grad = calculate_grad(input,batch_images_count,Ybatch)\n",
    "\n",
    "            dW = np.dot(Xbatch.T,grad)\n",
    "            db = np.sum(grad,axis = 0,keepdims = True)\n",
    "\n",
    "            #Perform parameter update\n",
    "            W += -lr *dW\n",
    "            b += -lr *db\n",
    "            t_accuracy.append(accuracy(Xbatch,Ybatch,W,b))\n",
    "            if display_error==1:\n",
    "                print(\"\\n Current iteration: {} Batch Number: {}\".format(itr_counters,batch_no))\n",
    "                print(\"\\n Cross Entropy Error :{}\".format(loss))\n",
    "        \n",
    "            #\n",
    "        \n",
    "        X ,Xval,Y,Yval = train_test_split(X_train, Y_train, test_size=1/6)\n",
    "        v_accuracy=accuracy(X_val,Y_val,W,b)    \n",
    "        val_accuracy.append(v_accuracy)\n",
    "        train_accuracy.append(np.average(t_accuracy))\n",
    "        \n",
    "        \n",
    "        input = np.dot(Xval,W) + b\n",
    "        train_loss_list.append(np.average(itr_loss))\n",
    "        v_loss = cross_entropy_error(input,Xval.shape[0],Yval)\n",
    "        val_loss_list.append(v_loss)        \n",
    "        \n",
    "        print(\"\\n Current iteration: {} train_Accuracy: {} validation_Acc: {} train loss: {} val loss: {}\".format(itr_counters,np.average(t_accuracy),v_accuracy,loss,v_loss))\n",
    "\n",
    "        train_likelihood.append(np.exp(-np.average(itr_loss)))\n",
    "        val_likelihood.append(np.exp(-np.average(val_loss_list)))\n",
    "        \n",
    "        \n",
    "    \n",
    "\n",
    "    print(\"\\n The Final value of W:{}\".format(W))\n",
    "    return W,b,train_loss_list,val_loss_list,train_likelihood,val_likelihood,train_accuracy,val_accuracy\n",
    "\n",
    "\n"
   ]
  },
  {
   "cell_type": "markdown",
   "metadata": {},
   "source": [
    "## Multiclass Logistic Regression for MNIST Digit recognition Dataset"
   ]
  },
  {
   "cell_type": "code",
   "execution_count": 368,
   "metadata": {},
   "outputs": [],
   "source": [
    "\n",
    "def mnist_logistic_reg(batch_size,lr,itr,display_error=0):\n",
    "    \n",
    "    dimension = 784\n",
    "    nb_classes = 10\n",
    "    (X_train, y_train), (X_test, y_test) = mnist.load_data()\n",
    "\n",
    "    X_train = X_train.reshape(60000, dimension)\n",
    "    X_test = X_test.reshape(10000, dimension)\n",
    "    X_train = X_train.astype('float32')\n",
    "    X_test = X_test.astype('float32')\n",
    "\n",
    "    X_train /= 255\n",
    "    X_test /= 255\n",
    "\n",
    "    print(\"\\n X_train :{}\".format(X_train.shape))\n",
    "    # convert class vectors to binary class matrices\n",
    "    Y_train = np_utils.to_categorical(y_train, nb_classes)\n",
    "    Y_test = np_utils.to_categorical(y_test, nb_classes)\n",
    "    print(\"\\n Y_train :{}\".format(Y_train.shape))\n",
    "\n",
    "    train_accuracy = []\n",
    "    test_accuracy  = []\n",
    "    \n",
    "    \n",
    "    weights,bias,train_loss,val_loss,t_likelihood,val_likelihood,train_acc,val_acc=sgd(X_train,Y_train,batch_size,lr,itr)\n",
    "\n",
    "    acc = accuracy(X_test,Y_test,weights,bias)\n",
    "    print(\"\\n Final  Accuracy :%.4f {}\".format(acc))\n",
    "\n",
    "    \n",
    "    return train_loss,val_loss,t_likelihood,val_likelihood,train_acc,val_acc\n"
   ]
  },
  {
   "cell_type": "markdown",
   "metadata": {},
   "source": [
    "## Plotting Accuracy and Likelihood"
   ]
  },
  {
   "cell_type": "code",
   "execution_count": 369,
   "metadata": {},
   "outputs": [],
   "source": [
    "def plot_loss_accuracy(itr,train_likelihood,val_likelihood,train_accuracy,val_accuracy):\n",
    "    \n",
    "    f, (ax1, ax2) = plt.subplots(1, 2, sharey=True)\n",
    "    plt.xlabel(\"itr\")\n",
    "    plt.ylabel(\"Likelihood\")\n",
    "    #plt.title(\"Train and Validation accuracy and Loglikelihood\")\n",
    "\n",
    "\n",
    "    r\"\"\"\n",
    "    Plot the Likelihood vs itr\n",
    "    \"\"\"\n",
    "    \n",
    "    ax1.scatter(range(itr),train_likelihood,marker=\"^\")\n",
    "    ax1.title.set_text(\"Train Likelihood \")\n",
    "    \n",
    "    ax2.scatter(range(itr),val_likelihood,marker=\"^\")\n",
    "    ax2.title.set_text(\"Validation Likelihood \")\n",
    "    \n",
    "    plt.show()\n",
    "    \n",
    "    r\"\"\"\n",
    "    Plot the classification accuracy vs itr\n",
    "    \"\"\"\n",
    "    f, (ax3, ax4) = plt.subplots(1, 2, sharey=True)\n",
    "    plt.xlabel(\"itr\")\n",
    "    plt.ylabel(\"Accuracy\")\n",
    "\n",
    "    ax3.scatter(range(itr),train_accuracy,marker=\"^\")\n",
    "    ax3.title.set_text(\"Train Accuracy \")\n",
    "    \n",
    "    ax4.scatter(range(itr),val_accuracy,marker=\"^\")\n",
    "    ax4.title.set_text(\"Validation Accuracy \")\n",
    "    #ax4.xlabel(\"Epochs.\")\n",
    "    #ax4.ylabel(\"Classification Accuracy.\")\n",
    "    plt.show()"
   ]
  },
  {
   "cell_type": "markdown",
   "metadata": {},
   "source": [
    "## Question\n",
    "\n",
    "_Plot the Log likelihood and classification\n",
    "accuracy on train and validation sets as a function of epochs. Report the test accuracy using\n",
    "the weights learnt after the last epoch.\n",
    "Comment on the influence of learning rate and batch size by performing the above experiments\n",
    "using:_\n",
    "\n",
    "_(a) Four different choices of learning rate 0.001, 0.01, 0.05, 0.1_\n",
    "\n",
    "_(b) Four different choices of batch size 1, 32, 128, 1024._"
   ]
  },
  {
   "cell_type": "markdown",
   "metadata": {},
   "source": [
    "## 1. Batch =1024 ; Learning Rate =0.001 ; "
   ]
  },
  {
   "cell_type": "code",
   "execution_count": 374,
   "metadata": {
    "scrolled": false
   },
   "outputs": [
    {
     "name": "stdout",
     "output_type": "stream",
     "text": [
      "\n",
      " X_train :(60000, 784)\n",
      "\n",
      " Y_train :(60000, 10)\n",
      "\n",
      " batch size :1024\n",
      "\n",
      " Current iteration: 0 train_Accuracy: 0.1995338672025414 validation_Acc: 0.2744 train loss: 2.2567743062472063 val loss: 2.254650261612537\n",
      "\n",
      " Current iteration: 1 train_Accuracy: 0.3621196783548325 validation_Acc: 0.4263 train loss: 2.2069679863745226 val loss: 2.205022858318549\n",
      "\n",
      " Current iteration: 2 train_Accuracy: 0.48626720735463996 validation_Acc: 0.536 train loss: 2.1591368823661514 val loss: 2.157265678598361\n",
      "\n",
      " Current iteration: 3 train_Accuracy: 0.5683307963515595 validation_Acc: 0.6058 train loss: 2.1130979516210595 val loss: 2.1107653798438126\n",
      "\n",
      " Current iteration: 4 train_Accuracy: 0.6206417561128225 validation_Acc: 0.6502 train loss: 2.0687235800261106 val loss: 2.067684249038936\n",
      "\n",
      " Current iteration: 5 train_Accuracy: 0.657016735054871 validation_Acc: 0.681 train loss: 2.025920217252277 val loss: 2.0230105386634967\n",
      "\n",
      " Current iteration: 6 train_Accuracy: 0.6835256876925299 validation_Acc: 0.7035 train loss: 1.9846153219543725 val loss: 1.9828060772012577\n",
      "\n",
      " Current iteration: 7 train_Accuracy: 0.7025286087312282 validation_Acc: 0.7209 train loss: 1.9447492859116298 val loss: 1.942135614629883\n",
      "\n",
      " Current iteration: 8 train_Accuracy: 0.7157766924576434 validation_Acc: 0.7315 train loss: 1.9062704195121605 val loss: 1.9033106955829884\n",
      "\n",
      " Current iteration: 9 train_Accuracy: 0.7262173000096265 validation_Acc: 0.7411 train loss: 1.8691318496961544 val loss: 1.8635229310951766\n",
      "\n",
      " Current iteration: 10 train_Accuracy: 0.735214685815364 validation_Acc: 0.7479 train loss: 1.8332896224167152 val loss: 1.8268266813502891\n",
      "\n",
      " Current iteration: 11 train_Accuracy: 0.7419235235367732 validation_Acc: 0.7555 train loss: 1.798701565474559 val loss: 1.7965963612125808\n",
      "\n",
      " Current iteration: 12 train_Accuracy: 0.7472056850452445 validation_Acc: 0.759 train loss: 1.765326630268872 val loss: 1.7626869039529391\n",
      "\n",
      " Current iteration: 13 train_Accuracy: 0.7530225681074317 validation_Acc: 0.7636 train loss: 1.7331245333048755 val loss: 1.735775907365422\n",
      "\n",
      " Current iteration: 14 train_Accuracy: 0.7576752472805159 validation_Acc: 0.767 train loss: 1.7020555832979203 val loss: 1.7084007390831533\n",
      "\n",
      " The Final value of W:[[ 7.56725934e-03  1.06456103e-02 -1.14850997e-02 ... -2.26435135e-03\n",
      "  -1.17206143e-02 -5.58690156e-03]\n",
      " [ 5.74304594e-03  1.06513298e-02 -5.94296905e-03 ... -3.55925957e-03\n",
      "   2.78640876e-03  1.11529722e-02]\n",
      " [ 9.95201291e-03  1.99923543e-03  7.88862809e-03 ... -4.81374657e-03\n",
      "  -9.44772420e-03 -5.31320257e-03]\n",
      " ...\n",
      " [ 5.73166100e-03  1.20916798e-02  6.71564236e-03 ... -1.27973061e-02\n",
      "   2.23807843e-02  1.86816796e-04]\n",
      " [ 6.09808061e-03 -4.51672895e-03  2.04302101e-03 ... -2.17658935e-05\n",
      "  -2.66755766e-03  1.77545765e-03]\n",
      " [ 7.20296285e-03  1.25504091e-02 -1.06245198e-02 ...  8.09780732e-03\n",
      "   1.13362023e-02  1.16532643e-02]]\n",
      "\n",
      " Final  Accuracy :%.4f 0.7649\n"
     ]
    }
   ],
   "source": [
    "batch_size=1024\n",
    "lr=0.001\n",
    "itr=15\n",
    "t_loss,v_loss,train_likelihood,val_likelihood,train_accuracy,val_accuracy=mnist_logistic_reg(batch_size,lr,itr,display_error=0)"
   ]
  },
  {
   "cell_type": "code",
   "execution_count": 375,
   "metadata": {},
   "outputs": [
    {
     "data": {
      "image/png": "[encoded data removed]",
      "text/plain": [
       "<Figure size 432x288 with 2 Axes>"
      ]
     },
     "metadata": {
      "needs_background": "light"
     },
     "output_type": "display_data"
    },
    {
     "data": {
      "image/png": "[encoded data removed]",
      "text/plain": [
       "<Figure size 432x288 with 2 Axes>"
      ]
     },
     "metadata": {
      "needs_background": "light"
     },
     "output_type": "display_data"
    }
   ],
   "source": [
    "plot_loss_accuracy(itr,train_likelihood,val_likelihood,train_accuracy,val_accuracy)"
   ]
  },
  {
   "cell_type": "markdown",
   "metadata": {},
   "source": [
    "### Inference: Batch =1024 ; Learning Rate =0.001 ;  \n",
    "\n",
    "_1. Both the training accuracy and validation accuracy are low  76% Loss is 1.7 after 15 iteration Model is underfit_\n",
    "\n",
    "_2. Due to very less learning rate the weights are updating slowly and slow convergence_\n",
    "\n",
    "_3. we have to raise learning rate for faster convergence_\n"
   ]
  },
  {
   "cell_type": "markdown",
   "metadata": {},
   "source": [
    "## 2. Batch =1024 ; Learning Rate =0.01 ; "
   ]
  },
  {
   "cell_type": "code",
   "execution_count": 388,
   "metadata": {},
   "outputs": [
    {
     "name": "stdout",
     "output_type": "stream",
     "text": [
      "\n",
      " X_train :(60000, 784)\n",
      "\n",
      " Y_train :(60000, 10)\n",
      "\n",
      " batch size :1024\n",
      "\n",
      " Current iteration: 0 train_Accuracy: 0.5588080898633039 validation_Acc: 0.7502 train loss: 1.884781135016589 val loss: 1.8660275493779357\n",
      "\n",
      " Current iteration: 1 train_Accuracy: 0.7650507947872546 validation_Acc: 0.7855 train loss: 1.5878087921210837 val loss: 1.5686208691558858\n",
      "\n",
      " Current iteration: 2 train_Accuracy: 0.7874384054919138 validation_Acc: 0.8031 train loss: 1.3788456548196086 val loss: 1.3544831278671645\n",
      "\n",
      " Current iteration: 3 train_Accuracy: 0.8019902020360031 validation_Acc: 0.8154 train loss: 1.2286831822674087 val loss: 1.192872157976872\n",
      "\n",
      " Current iteration: 4 train_Accuracy: 0.8122074448883326 validation_Acc: 0.8223 train loss: 1.1173071251020605 val loss: 1.096144281090595\n",
      "\n",
      " Current iteration: 5 train_Accuracy: 0.819641277796496 validation_Acc: 0.8274 train loss: 1.0319959457815684 val loss: 1.00814336677287\n",
      "\n",
      " Current iteration: 6 train_Accuracy: 0.8254491360223335 validation_Acc: 0.8346 train loss: 0.9647346780760914 val loss: 0.9383294876995182\n",
      "\n",
      " Current iteration: 7 train_Accuracy: 0.8306117184491721 validation_Acc: 0.8394 train loss: 0.9103738543486461 val loss: 0.8802207187822285\n",
      "\n",
      " Current iteration: 8 train_Accuracy: 0.8351282730073162 validation_Acc: 0.8424 train loss: 0.8655084215009811 val loss: 0.829171545516805\n",
      "\n",
      " Current iteration: 9 train_Accuracy: 0.8386284053715826 validation_Acc: 0.8453 train loss: 0.8278179388528553 val loss: 0.8039845733723925\n",
      "\n",
      " Current iteration: 10 train_Accuracy: 0.8419450327300732 validation_Acc: 0.8473 train loss: 0.7956753301954299 val loss: 0.7745460074846231\n",
      "\n",
      " Current iteration: 11 train_Accuracy: 0.8452898627021563 validation_Acc: 0.8495 train loss: 0.7679096507772716 val loss: 0.7435294934318992\n",
      "\n",
      " Current iteration: 12 train_Accuracy: 0.8480766569599538 validation_Acc: 0.8518 train loss: 0.7436583262988383 val loss: 0.7268659955478386\n",
      "\n",
      " Current iteration: 13 train_Accuracy: 0.850452445128995 validation_Acc: 0.8541 train loss: 0.7222725758132503 val loss: 0.6977104611729161\n",
      "\n",
      " Current iteration: 14 train_Accuracy: 0.8526729309058529 validation_Acc: 0.8565 train loss: 0.7032552794704627 val loss: 0.6803786839758396\n",
      "\n",
      " The Final value of W:[[-0.01288315 -0.00602507 -0.00480437 ... -0.00372334 -0.00042277\n",
      "  -0.0097026 ]\n",
      " [ 0.00386608  0.01762048  0.00262322 ...  0.00149248  0.0064236\n",
      "  -0.00820885]\n",
      " [-0.00503459 -0.01573669 -0.00486032 ... -0.00529207 -0.00031909\n",
      "   0.00487045]\n",
      " ...\n",
      " [-0.01304786  0.01192689  0.00092867 ...  0.01159994 -0.00661782\n",
      "   0.00136591]\n",
      " [ 0.00243854  0.0075051  -0.00816915 ...  0.01441596 -0.00863327\n",
      "   0.01348364]\n",
      " [ 0.00515225 -0.00603701  0.00980304 ... -0.00454409 -0.00806756\n",
      "   0.00493886]]\n",
      "\n",
      " Final  Accuracy :%.4f 0.8639\n"
     ]
    }
   ],
   "source": [
    "batch_size=1024\n",
    "lr=0.01\n",
    "itr=15\n",
    "t_loss,v_loss,train_likelihood,val_likelihood,train_accuracy,val_accuracy=mnist_logistic_reg(batch_size,lr,itr,display_error=0)"
   ]
  },
  {
   "cell_type": "code",
   "execution_count": 389,
   "metadata": {},
   "outputs": [
    {
     "data": {
      "image/png": "[encoded data removed]",
      "text/plain": [
       "<Figure size 432x288 with 2 Axes>"
      ]
     },
     "metadata": {
      "needs_background": "light"
     },
     "output_type": "display_data"
    },
    {
     "data": {
      "image/png": "[encoded data removed]",
      "text/plain": [
       "<Figure size 432x288 with 2 Axes>"
      ]
     },
     "metadata": {
      "needs_background": "light"
     },
     "output_type": "display_data"
    }
   ],
   "source": [
    "plot_loss_accuracy(itr,train_likelihood,val_likelihood,train_accuracy,val_accuracy)"
   ]
  },
  {
   "cell_type": "markdown",
   "metadata": {},
   "source": [
    "### Inference: Batch =1024 ; Learning Rate =0.01 ; \n",
    "\n",
    "_1. Learning rate increased 10 times to 0.01 still training loss is high 0.6_\n",
    "\n",
    "_2. To reduce loss with faster convergence lets increase lr further to 0.1_"
   ]
  },
  {
   "cell_type": "markdown",
   "metadata": {},
   "source": [
    "## 3. Batch =1024 ; Learning Rate =0.1 ; "
   ]
  },
  {
   "cell_type": "code",
   "execution_count": 395,
   "metadata": {},
   "outputs": [
    {
     "name": "stdout",
     "output_type": "stream",
     "text": [
      "\n",
      " X_train :(60000, 784)\n",
      "\n",
      " Y_train :(60000, 10)\n",
      "\n",
      " batch size :1024\n",
      "\n",
      " Current iteration: 0 train_Accuracy: 0.7867303318733154 validation_Acc: 0.8388 train loss: 0.818029190924758 val loss: 0.7976421680371206\n",
      "\n",
      " Current iteration: 1 train_Accuracy: 0.8527368568299962 validation_Acc: 0.8595 train loss: 0.6250358013887738 val loss: 0.6030712709636505\n",
      "\n",
      " Current iteration: 2 train_Accuracy: 0.8664252773633038 validation_Acc: 0.8698 train loss: 0.5470298145724886 val loss: 0.5362162488016953\n",
      "\n",
      " Current iteration: 3 train_Accuracy: 0.8744776875962649 validation_Acc: 0.8751 train loss: 0.5028382932246772 val loss: 0.4995470719461269\n",
      "\n",
      " Current iteration: 4 train_Accuracy: 0.8800629331921448 validation_Acc: 0.8814 train loss: 0.4736040449947197 val loss: 0.46254942668646015\n",
      "\n",
      " Current iteration: 5 train_Accuracy: 0.8835871317866769 validation_Acc: 0.8838 train loss: 0.45245115794468616 val loss: 0.43913181962798337\n",
      "\n",
      " Current iteration: 6 train_Accuracy: 0.8867003242924527 validation_Acc: 0.8861 train loss: 0.43622625244573926 val loss: 0.406760763941407\n",
      "\n",
      " Current iteration: 7 train_Accuracy: 0.8891558318492491 validation_Acc: 0.8884 train loss: 0.42326171549148106 val loss: 0.42296248898469674\n",
      "\n",
      " Current iteration: 8 train_Accuracy: 0.8916154757893723 validation_Acc: 0.8901 train loss: 0.4125848490322969 val loss: 0.3832289255941257\n",
      "\n",
      " Current iteration: 9 train_Accuracy: 0.8939596770311898 validation_Acc: 0.8916 train loss: 0.40358603348620936 val loss: 0.3947797258301876\n",
      "\n",
      " Current iteration: 10 train_Accuracy: 0.8958853514872931 validation_Acc: 0.8932 train loss: 0.3958615872640636 val loss: 0.3836551246864933\n",
      "\n",
      " Current iteration: 11 train_Accuracy: 0.897041282609742 validation_Acc: 0.8935 train loss: 0.3891322981440291 val loss: 0.38080717404026215\n",
      "\n",
      " Current iteration: 12 train_Accuracy: 0.8983566525077012 validation_Acc: 0.8943 train loss: 0.3831980961399974 val loss: 0.3793824120871839\n",
      "\n",
      " Current iteration: 13 train_Accuracy: 0.8994926537832114 validation_Acc: 0.8961 train loss: 0.37791136280980714 val loss: 0.3758006174865914\n",
      "\n",
      " Current iteration: 14 train_Accuracy: 0.9007083744464767 validation_Acc: 0.8977 train loss: 0.373160464104634 val loss: 0.3664496341260219\n",
      "\n",
      " The Final value of W:[[ 0.00182135 -0.00445111  0.00038507 ... -0.00731316  0.00528911\n",
      "   0.00799035]\n",
      " [-0.00409914 -0.00140532  0.01084011 ...  0.00019807  0.00853357\n",
      "   0.00999791]\n",
      " [ 0.01155687 -0.00430623  0.00655484 ... -0.00186757 -0.01816735\n",
      "  -0.01560714]\n",
      " ...\n",
      " [-0.00069739  0.00143417 -0.00491684 ... -0.01024393 -0.01500857\n",
      "   0.0114429 ]\n",
      " [ 0.00166121 -0.0016797  -0.00080669 ... -0.01005738  0.01780288\n",
      "   0.00010859]\n",
      " [ 0.00281452  0.00819506 -0.01457855 ...  0.01375916  0.00323563\n",
      "   0.00884127]]\n",
      "\n",
      " Final  Accuracy :%.4f 0.9067\n"
     ]
    }
   ],
   "source": [
    "batch_size=1024\n",
    "lr=0.1\n",
    "itr=15\n",
    "t_loss,v_loss,train_likelihood,val_likelihood,train_accuracy,val_accuracy=mnist_logistic_reg(batch_size,lr,itr,display_error=0)"
   ]
  },
  {
   "cell_type": "code",
   "execution_count": 392,
   "metadata": {},
   "outputs": [
    {
     "data": {
      "image/png": "[encoded data removed]",
      "text/plain": [
       "<Figure size 432x288 with 2 Axes>"
      ]
     },
     "metadata": {
      "needs_background": "light"
     },
     "output_type": "display_data"
    },
    {
     "data": {
      "image/png": "[encoded data removed]",
      "text/plain": [
       "<Figure size 432x288 with 2 Axes>"
      ]
     },
     "metadata": {
      "needs_background": "light"
     },
     "output_type": "display_data"
    }
   ],
   "source": [
    "plot_loss_accuracy(itr,train_likelihood,val_likelihood,train_accuracy,val_accuracy)"
   ]
  },
  {
   "cell_type": "markdown",
   "metadata": {},
   "source": [
    "### Inference: Batch =1024 ; Learning Rate =0.1 ; \n",
    "\n",
    "_1. Both validation and training Accuracy : 90% and less loss 0.37 therefore no underfit or over fit \n",
    "\n",
    "_2. Learning rate increased 10 times to 0.1 we have achieved faster convergence  _\n",
    "\n",
    "_3. Lets reduce this learning rate by half to check stable and fast convergence_"
   ]
  },
  {
   "cell_type": "markdown",
   "metadata": {},
   "source": [
    "## 4. Batch =1024 ; Learning Rate =0.05 ; \n"
   ]
  },
  {
   "cell_type": "code",
   "execution_count": 394,
   "metadata": {},
   "outputs": [
    {
     "name": "stdout",
     "output_type": "stream",
     "text": [
      "\n",
      " X_train :(60000, 784)\n",
      "\n",
      " Y_train :(60000, 10)\n",
      "\n",
      " batch size :1024\n",
      "\n",
      " Current iteration: 0 train_Accuracy: 0.7554416002839816 validation_Acc: 0.8193 train loss: 1.0908481040530895 val loss: 1.0797580498039998\n",
      "\n",
      " Current iteration: 1 train_Accuracy: 0.8310543114651522 validation_Acc: 0.8435 train loss: 0.7997774999580491 val loss: 0.7990590283857324\n",
      "\n",
      " Current iteration: 2 train_Accuracy: 0.8478724700375433 validation_Acc: 0.858 train loss: 0.6763143750725027 val loss: 0.6775898689044617\n",
      "\n",
      " Current iteration: 3 train_Accuracy: 0.8570890841596073 validation_Acc: 0.8631 train loss: 0.6066028514644327 val loss: 0.6043632555185189\n",
      "\n",
      " Current iteration: 4 train_Accuracy: 0.8638776412687718 validation_Acc: 0.8672 train loss: 0.5610825585932728 val loss: 0.5554514933285503\n",
      "\n",
      " Current iteration: 5 train_Accuracy: 0.868713073377936 validation_Acc: 0.871 train loss: 0.5286425489179756 val loss: 0.5371580058308402\n",
      "\n",
      " Current iteration: 6 train_Accuracy: 0.872795307686754 validation_Acc: 0.8742 train loss: 0.5041327141747705 val loss: 0.5082788854946101\n",
      "\n",
      " Current iteration: 7 train_Accuracy: 0.8763552295918368 validation_Acc: 0.8766 train loss: 0.484823908429696 val loss: 0.47931118733615974\n",
      "\n",
      " Current iteration: 8 train_Accuracy: 0.878990105771082 validation_Acc: 0.879 train loss: 0.4691283552227845 val loss: 0.4746476189977213\n",
      "\n",
      " Current iteration: 9 train_Accuracy: 0.8810910124663073 validation_Acc: 0.8814 train loss: 0.4560560741104532 val loss: 0.45622440077369336\n",
      "\n",
      " Current iteration: 10 train_Accuracy: 0.8831761256979207 validation_Acc: 0.8824 train loss: 0.4449558035878879 val loss: 0.44867704409334747\n",
      "\n",
      " Current iteration: 11 train_Accuracy: 0.8846152110608395 validation_Acc: 0.8839 train loss: 0.43538034739221737 val loss: 0.4469123377609686\n",
      "\n",
      " Current iteration: 12 train_Accuracy: 0.8863257935839429 validation_Acc: 0.8855 train loss: 0.4270116719635738 val loss: 0.44316571760045015\n",
      "\n",
      " Current iteration: 13 train_Accuracy: 0.8875456506305351 validation_Acc: 0.8872 train loss: 0.41961689025158927 val loss: 0.43640474052975375\n",
      "\n",
      " Current iteration: 14 train_Accuracy: 0.8889963930737389 validation_Acc: 0.8888 train loss: 0.41302119377046775 val loss: 0.4306661339927837\n",
      "\n",
      " The Final value of W:[[ 0.00997067  0.02870251  0.00916439 ... -0.01687878 -0.01734078\n",
      "   0.00156668]\n",
      " [-0.02329941 -0.00274777 -0.02176241 ... -0.00021078  0.0062272\n",
      "   0.00246734]\n",
      " [ 0.00142909 -0.0053517  -0.00162144 ...  0.0015799  -0.00121571\n",
      "   0.00297406]\n",
      " ...\n",
      " [-0.00426979  0.00804457 -0.00644417 ...  0.01427489  0.00344425\n",
      "   0.00258942]\n",
      " [ 0.0054033   0.0056109  -0.00590026 ...  0.00562516  0.00585777\n",
      "   0.01216998]\n",
      " [ 0.00567188  0.00398259  0.02560269 ...  0.01238434 -0.00267495\n",
      "  -0.00393799]]\n",
      "\n",
      " Final  Accuracy :%.4f 0.8965\n"
     ]
    }
   ],
   "source": [
    "batch_size=1024\n",
    "lr=0.05\n",
    "itr=15\n",
    "t_loss,v_loss,train_likelihood,val_likelihood,train_accuracy,val_accuracy=mnist_logistic_reg(batch_size,lr,itr,display_error=0)"
   ]
  },
  {
   "cell_type": "code",
   "execution_count": 396,
   "metadata": {},
   "outputs": [
    {
     "data": {
      "image/png": "[encoded data removed]",
      "text/plain": [
       "<Figure size 432x288 with 2 Axes>"
      ]
     },
     "metadata": {
      "needs_background": "light"
     },
     "output_type": "display_data"
    },
    {
     "data": {
      "image/png": "[encoded data removed]",
      "text/plain": [
       "<Figure size 432x288 with 2 Axes>"
      ]
     },
     "metadata": {
      "needs_background": "light"
     },
     "output_type": "display_data"
    }
   ],
   "source": [
    "plot_loss_accuracy(itr,train_likelihood,val_likelihood,train_accuracy,val_accuracy)"
   ]
  },
  {
   "cell_type": "markdown",
   "metadata": {},
   "source": [
    "### Inference: Batch =1024 ; Learning Rate =0.05 ; \n",
    "\n",
    "_1. Both validation and training Accuracy : 89% and less loss 0.42 therefore no underfit or over fit \n",
    "\n",
    "_2. Learning rate decreased half to 0.05 we have achieved faster convergence but loss is not better than 0.1  _\n",
    "\n",
    "_3. For batch size of 1024 lr=0.1 is best available option_\n",
    "\n",
    "_4. Lets reduce the Batch size for more frequent weight update "
   ]
  },
  {
   "cell_type": "markdown",
   "metadata": {},
   "source": [
    "## 5. Batch =128 ; Learning Rate =0.1 ; "
   ]
  },
  {
   "cell_type": "code",
   "execution_count": 402,
   "metadata": {},
   "outputs": [
    {
     "name": "stdout",
     "output_type": "stream",
     "text": [
      "\n",
      " X_train :(60000, 784)\n",
      "\n",
      " Y_train :(60000, 10)\n",
      "\n",
      " batch size :128\n",
      "\n",
      " Current iteration: 0 train_Accuracy: 0.8687979539641943 validation_Acc: 0.8922 train loss: 0.3286859325879911 val loss: 0.4103070713260523\n",
      "\n",
      " Current iteration: 1 train_Accuracy: 0.8991608056265984 validation_Acc: 0.9028 train loss: 0.2683290465860856 val loss: 0.38360240085918057\n",
      "\n",
      " Current iteration: 2 train_Accuracy: 0.9063339194373401 validation_Acc: 0.9075 train loss: 0.2423191413359671 val loss: 0.33140777874193816\n",
      "\n",
      " Current iteration: 3 train_Accuracy: 0.9105298913043478 validation_Acc: 0.91 train loss: 0.22674668007308227 val loss: 0.3328422299434732\n",
      "\n",
      " Current iteration: 4 train_Accuracy: 0.9134670716112532 validation_Acc: 0.9117 train loss: 0.21592556628332119 val loss: 0.3173285057815565\n",
      "\n",
      " Current iteration: 5 train_Accuracy: 0.9162843670076726 validation_Acc: 0.9132 train loss: 0.20774846890048398 val loss: 0.32621990319402505\n",
      "\n",
      " Current iteration: 6 train_Accuracy: 0.9177829283887468 validation_Acc: 0.9138 train loss: 0.20123417652772962 val loss: 0.3010089904495211\n",
      "\n",
      " Current iteration: 7 train_Accuracy: 0.9190617007672633 validation_Acc: 0.9153 train loss: 0.1958534035345651 val loss: 0.3062289490763224\n",
      "\n",
      " Current iteration: 8 train_Accuracy: 0.9202205882352941 validation_Acc: 0.9156 train loss: 0.19128961674746867 val loss: 0.29096064290295715\n",
      "\n",
      " Current iteration: 9 train_Accuracy: 0.9213395140664961 validation_Acc: 0.9169 train loss: 0.18733886076093031 val loss: 0.28897958112531413\n",
      "\n",
      " Current iteration: 10 train_Accuracy: 0.9219988810741687 validation_Acc: 0.917 train loss: 0.183862300408495 val loss: 0.291807384043302\n",
      "\n",
      " Current iteration: 11 train_Accuracy: 0.9226582480818414 validation_Acc: 0.9169 train loss: 0.18076144496520036 val loss: 0.2981410532589243\n",
      "\n",
      " Current iteration: 12 train_Accuracy: 0.9235174232736573 validation_Acc: 0.9176 train loss: 0.17796416211353322 val loss: 0.28820475910021814\n",
      "\n",
      " Current iteration: 13 train_Accuracy: 0.9243965792838874 validation_Acc: 0.9178 train loss: 0.1754162686628284 val loss: 0.29157265033866775\n",
      "\n",
      " Current iteration: 14 train_Accuracy: 0.9250559462915601 validation_Acc: 0.9181 train loss: 0.17307621074260252 val loss: 0.29071825626665593\n",
      "\n",
      " The Final value of W:[[-0.011116   -0.00027466 -0.00027323 ...  0.01615482  0.00171437\n",
      "  -0.01074405]\n",
      " [-0.01096305  0.00492008 -0.00327563 ... -0.01045902 -0.00332139\n",
      "  -0.00044592]\n",
      " [ 0.01877205  0.00114753 -0.00188675 ...  0.00524842  0.00076367\n",
      "  -0.01052429]\n",
      " ...\n",
      " [-0.00216418 -0.00578323 -0.00794284 ... -0.01127748 -0.00235676\n",
      "   0.0069581 ]\n",
      " [-0.01082198 -0.01911228  0.00020833 ...  0.00539961  0.00022568\n",
      "   0.01471572]\n",
      " [ 0.00244029  0.00062954  0.01844066 ... -0.01316625  0.00580503\n",
      "   0.00982611]]\n",
      "\n",
      " Final  Accuracy :%.4f 0.9198\n"
     ]
    }
   ],
   "source": [
    "batch_size=128\n",
    "lr=0.1\n",
    "itr=15\n",
    "t_loss,v_loss,train_likelihood,val_likelihood,train_accuracy,val_accuracy=mnist_logistic_reg(batch_size,lr,itr,display_error=0)"
   ]
  },
  {
   "cell_type": "code",
   "execution_count": 400,
   "metadata": {},
   "outputs": [
    {
     "data": {
      "image/png": "[encoded data removed]",
      "text/plain": [
       "<Figure size 432x288 with 2 Axes>"
      ]
     },
     "metadata": {
      "needs_background": "light"
     },
     "output_type": "display_data"
    },
    {
     "data": {
      "image/png": "[encoded data removed]",
      "text/plain": [
       "<Figure size 432x288 with 2 Axes>"
      ]
     },
     "metadata": {
      "needs_background": "light"
     },
     "output_type": "display_data"
    }
   ],
   "source": [
    "plot_loss_accuracy(itr,train_likelihood,val_likelihood,train_accuracy,val_accuracy)"
   ]
  },
  {
   "cell_type": "markdown",
   "metadata": {},
   "source": [
    "### Inference: Batch =128 ; Learning Rate =0.1 ; \n",
    "\n",
    "_1. Both validation and training Accuracy : 91% and  loss 0.20  therefore no underfit or over fit \n",
    "\n",
    "_2. As batch size 128<1024 the convergence is faster and within 15 iteration we have achieved less loss\n",
    "\n",
    "_3. Lets reduce batch size further to 32 "
   ]
  },
  {
   "cell_type": "markdown",
   "metadata": {},
   "source": [
    "## 6.Batch =32 ; Learning Rate =0.1 ;"
   ]
  },
  {
   "cell_type": "code",
   "execution_count": 404,
   "metadata": {},
   "outputs": [
    {
     "name": "stdout",
     "output_type": "stream",
     "text": [
      "\n",
      " X_train :(60000, 784)\n",
      "\n",
      " Y_train :(60000, 10)\n",
      "\n",
      " batch size :32\n",
      "\n",
      " Current iteration: 0 train_Accuracy: 0.9071697056941779 validation_Acc: 0.9047 train loss: 0.2831977224340673 val loss: 0.32041827866376277\n",
      "\n",
      " Current iteration: 1 train_Accuracy: 0.9243042226487524 validation_Acc: 0.9126 train loss: 0.24603855581548761 val loss: 0.3036325422318961\n",
      "\n",
      " Current iteration: 2 train_Accuracy: 0.9284428982725528 validation_Acc: 0.9147 train loss: 0.23286236431974672 val loss: 0.2807272987647911\n",
      "\n",
      " Current iteration: 3 train_Accuracy: 0.930662188099808 validation_Acc: 0.9159 train loss: 0.22667036900439572 val loss: 0.27935436271940944\n",
      "\n",
      " Current iteration: 4 train_Accuracy: 0.9322416826615483 validation_Acc: 0.9175 train loss: 0.2233008827941667 val loss: 0.2790173257790629\n",
      "\n",
      " Current iteration: 5 train_Accuracy: 0.9332613563659629 validation_Acc: 0.9182 train loss: 0.22113434984792835 val loss: 0.2599248402947379\n",
      "\n",
      " Current iteration: 6 train_Accuracy: 0.9340611004478567 validation_Acc: 0.919 train loss: 0.21942518520211146 val loss: 0.2655560102752453\n",
      "\n",
      " Current iteration: 7 train_Accuracy: 0.9350007997440819 validation_Acc: 0.9191 train loss: 0.21781359808536432 val loss: 0.2623696932334313\n",
      "\n",
      " Current iteration: 8 train_Accuracy: 0.9353806781829814 validation_Acc: 0.9195 train loss: 0.2161292678582339 val loss: 0.26407245410774965\n",
      "\n",
      " Current iteration: 9 train_Accuracy: 0.9360604606525912 validation_Acc: 0.9198 train loss: 0.21429964956786876 val loss: 0.2699083503978641\n",
      "\n",
      " Current iteration: 10 train_Accuracy: 0.9368402111324377 validation_Acc: 0.9201 train loss: 0.21230358658939008 val loss: 0.2619807214954883\n",
      "\n",
      " Current iteration: 11 train_Accuracy: 0.9373800383877159 validation_Acc: 0.9202 train loss: 0.21014660076787978 val loss: 0.25751027421788464\n",
      "\n",
      " Current iteration: 12 train_Accuracy: 0.9379798464491362 validation_Acc: 0.9201 train loss: 0.20784728799768246 val loss: 0.24755690648029904\n",
      "\n",
      " Current iteration: 13 train_Accuracy: 0.9383397312859885 validation_Acc: 0.9205 train loss: 0.20542972452687888 val loss: 0.2654860784639103\n",
      "\n",
      " Current iteration: 14 train_Accuracy: 0.9386996161228407 validation_Acc: 0.9203 train loss: 0.20291926269144941 val loss: 0.27863976603803314\n",
      "\n",
      " The Final value of W:[[ 0.0197099  -0.01360802 -0.02296795 ... -0.00140942 -0.01750363\n",
      "  -0.00207696]\n",
      " [ 0.00013562  0.00294755 -0.00784031 ... -0.00274799  0.00336704\n",
      "  -0.01348846]\n",
      " [ 0.00308504  0.00458974 -0.0174057  ...  0.00386161  0.00700709\n",
      "  -0.003777  ]\n",
      " ...\n",
      " [-0.00024935  0.02042358  0.00349161 ...  0.01137906  0.00234376\n",
      "   0.0077371 ]\n",
      " [ 0.02138693  0.01434583 -0.00116631 ... -0.01274457  0.01862754\n",
      "  -0.00348048]\n",
      " [-0.00372759  0.00763386  0.01397943 ... -0.01179069 -0.00601069\n",
      "  -0.01238015]]\n",
      "\n",
      " Final  Accuracy :%.4f 0.9242\n"
     ]
    }
   ],
   "source": [
    "batch_size=32\n",
    "lr=0.1\n",
    "itr=15\n",
    "t_loss,v_loss,train_likelihood,val_likelihood,train_accuracy,val_accuracy=mnist_logistic_reg(batch_size,lr,itr,display_error=0)"
   ]
  },
  {
   "cell_type": "code",
   "execution_count": 405,
   "metadata": {},
   "outputs": [
    {
     "data": {
      "image/png": "[encoded data removed]",
      "text/plain": [
       "<Figure size 432x288 with 2 Axes>"
      ]
     },
     "metadata": {
      "needs_background": "light"
     },
     "output_type": "display_data"
    },
    {
     "data": {
      "image/png": "[encoded data removed]",
      "text/plain": [
       "<Figure size 432x288 with 2 Axes>"
      ]
     },
     "metadata": {
      "needs_background": "light"
     },
     "output_type": "display_data"
    }
   ],
   "source": [
    "plot_loss_accuracy(itr,train_likelihood,val_likelihood,train_accuracy,val_accuracy)"
   ]
  },
  {
   "cell_type": "markdown",
   "metadata": {},
   "source": [
    "### Inference: Batch =32 ; Learning Rate =0.1 ; \n",
    "\n",
    "_1. Both validation and training Accuracy : 92.5% and  loss 0.20  therefore no underfit or over fit \n",
    "\n",
    "_2. As batch size 32<128 the weight update convergence is faster and within 15 iteration we have achieved less loss\n",
    "\n",
    "_3. Lets reduce batch size further to just 1 "
   ]
  },
  {
   "cell_type": "code",
   "execution_count": 408,
   "metadata": {},
   "outputs": [
    {
     "name": "stdout",
     "output_type": "stream",
     "text": [
      "\n",
      " X_train :(60000, 784)\n",
      "\n",
      " Y_train :(60000, 10)\n",
      "\n",
      " batch size :1\n",
      "\n",
      " Current iteration: 0 train_Accuracy: 0.98574 validation_Acc: 0.8542 train loss: 1.1696944512989753 val loss: 0.9450147029086325\n",
      "\n",
      " Current iteration: 1 train_Accuracy: 0.98516 validation_Acc: 0.859 train loss: 0.08667416227033818 val loss: 0.9228015727214097\n",
      "\n",
      " Current iteration: 2 train_Accuracy: 0.985 validation_Acc: 0.8544 train loss: 0.003767314074399528 val loss: 0.9837033299525112\n",
      "\n",
      " Current iteration: 3 train_Accuracy: 0.98546 validation_Acc: 0.8683 train loss: 0.000437303093016473 val loss: 0.8346421714663069\n",
      "\n",
      " Current iteration: 4 train_Accuracy: 0.98576 validation_Acc: 0.8601 train loss: 0.10734620944025614 val loss: 0.9550224903454122\n",
      "\n",
      " The Final value of W:[[ 0.00667617 -0.00939718 -0.01052896 ... -0.00425239  0.00155979\n",
      "   0.00021183]\n",
      " [-0.01741176  0.01089264 -0.00663844 ...  0.00390678 -0.01113942\n",
      "  -0.00319204]\n",
      " [-0.00345043  0.00241935  0.00144848 ...  0.00174295 -0.01125871\n",
      "   0.01066066]\n",
      " ...\n",
      " [ 0.00874218  0.00220586 -0.0082374  ... -0.00543224 -0.01969778\n",
      "  -0.00272569]\n",
      " [ 0.00760147  0.0057124   0.00670241 ...  0.01173473 -0.00251467\n",
      "   0.00937212]\n",
      " [ 0.00639124 -0.02293651  0.00351188 ...  0.00997939 -0.00148406\n",
      "   0.00468526]]\n",
      "\n",
      " Final  Accuracy :%.4f 0.8661\n"
     ]
    }
   ],
   "source": [
    "batch_size=1\n",
    "lr=0.1\n",
    "itr=5\n",
    "t_loss,v_loss,train_likelihood,val_likelihood,train_accuracy,val_accuracy=mnist_logistic_reg(batch_size,lr,itr,display_error=0)"
   ]
  },
  {
   "cell_type": "markdown",
   "metadata": {},
   "source": [
    "### Inference: Batch =1 ; Learning Rate =0.1 ; \n",
    "\n",
    "_1. Weight update is very slow with limited data per batch; As the program is very slow stopped the program in 5 itr_\n",
    "\n",
    "_2. Train loss is sub zero but val loss is more ; Val accuracy < Training accuracy__\n",
    "\n",
    "_3. Model is __Overfit__ to the training images_"
   ]
  },
  {
   "cell_type": "markdown",
   "metadata": {},
   "source": [
    "## Conclusion:\n",
    "\n",
    "_1. Batch Size :32 with Learning rate : 0.1 seems to best fit choice for this Dataset_\n",
    "\n",
    "_2. Learning rate is very less under fit with less iteration and takes longer time to converge_\n",
    "\n",
    "_3. Larger Batch size takes longer time to update weight and slow convergence_\n",
    "\n",
    "_4. Learning rate we can even adapt as for first few iterations larger learning rate and then reduce learning rate to tap the optimum solution_\n",
    "        \n",
    "    \n",
    "        \n",
    "\n"
   ]
  },
  {
   "cell_type": "code",
   "execution_count": null,
   "metadata": {},
   "outputs": [],
   "source": []
  }
 ],
 "metadata": {
  "kernelspec": {
   "display_name": "Python 3",
   "language": "python",
   "name": "python3"
  },
  "language_info": {
   "codemirror_mode": {
    "name": "ipython",
    "version": 3
   },
   "file_extension": ".py",
   "mimetype": "text/x-python",
   "name": "python",
   "nbconvert_exporter": "python",
   "pygments_lexer": "ipython3",
   "version": "3.6.8"
  }
 },
 "nbformat": 4,
 "nbformat_minor": 2
}
