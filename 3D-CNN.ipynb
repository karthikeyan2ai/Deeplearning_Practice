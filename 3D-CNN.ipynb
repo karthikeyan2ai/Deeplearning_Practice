{
  "nbformat": 4,
  "nbformat_minor": 0,
  "metadata": {
    "colab": {
      "name": "Untitled0.ipynb",
      "version": "0.3.2",
      "provenance": []
    },
    "kernelspec": {
      "name": "python3",
      "display_name": "Python 3"
    },
    "accelerator": "GPU"
  },
  "cells": [
    {
      "metadata": {
        "id": "L37T2m8O-50d",
        "colab_type": "text"
      },
      "cell_type": "markdown",
      "source": [
        "# 3D CNN\n",
        "\n",
        "### Loading Cifar10 dataset and reshaping it and Doing Train Validation Split"
      ]
    },
    {
      "metadata": {
        "id": "vbyYMutS85xC",
        "colab_type": "code",
        "colab": {
          "base_uri": "https://localhost:8080/",
          "height": 102
        },
        "outputId": "b03ec3dc-5d0e-458d-e7ab-1195d803d246"
      },
      "cell_type": "code",
      "source": [
        "import sys\n",
        "\n",
        "#importing 3 party library\n",
        "import keras\n",
        "from keras.models import Sequential\n",
        "from keras.datasets import cifar10 \n",
        "from keras import backend as K\n",
        "from keras import optimizers\n",
        "from keras.layers import Dense, Flatten\n",
        "from keras.layers import Conv3D, MaxPooling3D,Activation\n",
        "from scipy.sparse import coo_matrix\n",
        "from sklearn.utils import shuffle\n",
        "import numpy as np\n",
        "\n",
        "\n",
        "(X, Y), (X_test, Y_test)  = cifar10.load_data()\n",
        "\n",
        "\n",
        "\n",
        "#reshaping the image .\n",
        "if K.image_data_format == 'channels_first':\n",
        "    X = X.reshape(X.shape[0],1,32,32,3)\n",
        "    X_test  = X_test.reshape(X_test.shape[0],1,32,32,3)\n",
        "else:\n",
        "    X = X.reshape(X.shape[0],3,32,32,1)\n",
        "    X_test  = X_test.reshape(X_test.shape[0],3,32,32,1)\n",
        "\n",
        "\n",
        "\n",
        "X = X.astype('float32')\n",
        "X_test = X_test.astype('float32') \n",
        "\n",
        "X /= 255.0\n",
        "X_test /= 255.0\n",
        "Y = keras.utils.np_utils.to_categorical(Y)\n",
        "Y_test  = keras.utils.np_utils.to_categorical(Y_test)\n",
        "\n",
        "X_train = X[0:42000]\n",
        "X_val = X[42000::]\n",
        "\n",
        "print(X.shape)\n",
        "print(X_train.shape, 'train samples')\n",
        "print(X_val.shape, 'validation samples')\n",
        "print(X_test.shape, 'test samples')\n",
        "\n",
        "\n",
        "\n",
        "\n",
        "Y_train = Y[0:42000]\n",
        "Y_val = Y[42000::]\n",
        "\n",
        "print(Y_train.shape,Y_val.shape,Y_test.shape, 'test samples')"
      ],
      "execution_count": 121,
      "outputs": [
        {
          "output_type": "stream",
          "text": [
            "(50000, 3, 32, 32, 1)\n",
            "(42000, 3, 32, 32, 1) train samples\n",
            "(8000, 3, 32, 32, 1) validation samples\n",
            "(10000, 3, 32, 32, 1) test samples\n",
            "(42000, 10) (8000, 10) (10000, 10) test samples\n"
          ],
          "name": "stdout"
        }
      ]
    },
    {
      "metadata": {
        "id": "xVvFJA94Byt0",
        "colab_type": "text"
      },
      "cell_type": "markdown",
      "source": [
        "## Model : 3DCNN with single Hidden Layer ;\n",
        "### 1. 32 3D Convulutional Kernel Followed by 2X2X1 maxpooling\n",
        "### 2. Fully Connected layer with 128 Units"
      ]
    },
    {
      "metadata": {
        "id": "1taA_wD0_aeb",
        "colab_type": "code",
        "colab": {}
      },
      "cell_type": "code",
      "source": [
        "def CNN_3D(batchsize,lr):\n",
        "  \n",
        "    Model = Sequential()\n",
        "    Model.add(Conv3D(32,kernel_size = (3,3,3),activation=\"relu\",input_shape = (3,32,32,1),padding='same'))\n",
        "    Model.add(MaxPooling3D(pool_size=(2,2,1),padding='same'))\n",
        "\n",
        "\n",
        "    #fully connected layer\n",
        "    Model.add(Flatten())      \n",
        "    Model.add(Dense(128,activation=\"relu\"))\n",
        "    Model.add(Dense(num_classes  , activation=\"softmax\"))\n",
        "\n",
        "    \n",
        "\n",
        "    Model.compile(loss=keras.losses.categorical_crossentropy,\n",
        "              optimizer=keras.optimizers.SGD(lr=0.05),\n",
        "              metrics=['accuracy'])\n",
        "\n",
        "\n",
        "    Model.fit(X_train,Y_train, batch_size=batchsize,epochs=epochs,\n",
        "              validation_data=(X_val, Y_val))\n",
        "\n",
        "    score = Model.evaluate(X_test, Y_test, verbose=1)\n",
        "    print('Test loss:', score[0])\n",
        "    print('Test accuracy:', score[1])"
      ],
      "execution_count": 0,
      "outputs": []
    },
    {
      "metadata": {
        "id": "OYOLCsZf9ONh",
        "colab_type": "text"
      },
      "cell_type": "markdown",
      "source": [
        "## Batch Size =128 and Learning rate =0.01"
      ]
    },
    {
      "metadata": {
        "id": "qMo5OHMFD-pO",
        "colab_type": "code",
        "colab": {
          "base_uri": "https://localhost:8080/",
          "height": 595
        },
        "outputId": "994e3c37-11e3-453a-d34e-d5aea7c37fbd"
      },
      "cell_type": "code",
      "source": [
        "epochs=15\n",
        "CNN_3D(128,0.01)"
      ],
      "execution_count": 123,
      "outputs": [
        {
          "output_type": "stream",
          "text": [
            "Train on 42000 samples, validate on 8000 samples\n",
            "Epoch 1/15\n",
            "42000/42000 [==============================] - 9s 211us/step - loss: 1.9545 - acc: 0.2943 - val_loss: 2.1673 - val_acc: 0.2316\n",
            "Epoch 2/15\n",
            "42000/42000 [==============================] - 8s 188us/step - loss: 1.6533 - acc: 0.4167 - val_loss: 1.7304 - val_acc: 0.3805\n",
            "Epoch 3/15\n",
            "42000/42000 [==============================] - 8s 186us/step - loss: 1.5401 - acc: 0.4605 - val_loss: 1.6290 - val_acc: 0.4208\n",
            "Epoch 4/15\n",
            "42000/42000 [==============================] - 8s 191us/step - loss: 1.4653 - acc: 0.4856 - val_loss: 2.1044 - val_acc: 0.3028\n",
            "Epoch 5/15\n",
            "42000/42000 [==============================] - 8s 187us/step - loss: 1.4012 - acc: 0.5060 - val_loss: 1.6723 - val_acc: 0.4155\n",
            "Epoch 6/15\n",
            "42000/42000 [==============================] - 8s 189us/step - loss: 1.3436 - acc: 0.5279 - val_loss: 1.8436 - val_acc: 0.3738\n",
            "Epoch 7/15\n",
            "42000/42000 [==============================] - 8s 188us/step - loss: 1.2941 - acc: 0.5460 - val_loss: 1.8731 - val_acc: 0.3683\n",
            "Epoch 8/15\n",
            "42000/42000 [==============================] - 8s 188us/step - loss: 1.2433 - acc: 0.5640 - val_loss: 1.9642 - val_acc: 0.3520\n",
            "Epoch 9/15\n",
            "42000/42000 [==============================] - 8s 186us/step - loss: 1.1953 - acc: 0.5812 - val_loss: 2.0067 - val_acc: 0.3827\n",
            "Epoch 10/15\n",
            "42000/42000 [==============================] - 8s 186us/step - loss: 1.1496 - acc: 0.5989 - val_loss: 1.6206 - val_acc: 0.4459\n",
            "Epoch 11/15\n",
            "42000/42000 [==============================] - 8s 189us/step - loss: 1.0941 - acc: 0.6163 - val_loss: 1.7879 - val_acc: 0.4333\n",
            "Epoch 12/15\n",
            "42000/42000 [==============================] - 8s 190us/step - loss: 1.0499 - acc: 0.6330 - val_loss: 2.0775 - val_acc: 0.3774\n",
            "Epoch 13/15\n",
            "42000/42000 [==============================] - 8s 190us/step - loss: 0.9990 - acc: 0.6509 - val_loss: 1.5802 - val_acc: 0.4601\n",
            "Epoch 14/15\n",
            "42000/42000 [==============================] - 8s 186us/step - loss: 0.9486 - acc: 0.6703 - val_loss: 1.8351 - val_acc: 0.4290\n",
            "Epoch 15/15\n",
            "42000/42000 [==============================] - 8s 187us/step - loss: 0.8996 - acc: 0.6889 - val_loss: 1.4942 - val_acc: 0.4885\n",
            "10000/10000 [==============================] - 1s 118us/step\n",
            "Test loss: 1.4873841011047364\n",
            "Test accuracy: 0.4907\n"
          ],
          "name": "stdout"
        }
      ]
    },
    {
      "metadata": {
        "id": "YWJL0KEq9VeD",
        "colab_type": "text"
      },
      "cell_type": "markdown",
      "source": [
        "## Batch size = 128 and Learning rate =0.05"
      ]
    },
    {
      "metadata": {
        "id": "JEoZ22KZ9EDl",
        "colab_type": "code",
        "colab": {
          "base_uri": "https://localhost:8080/",
          "height": 595
        },
        "outputId": "402a910d-eed1-4a06-afd8-0678c1496608"
      },
      "cell_type": "code",
      "source": [
        "CNN_3D(128,0.05)"
      ],
      "execution_count": 127,
      "outputs": [
        {
          "output_type": "stream",
          "text": [
            "Train on 42000 samples, validate on 8000 samples\n",
            "Epoch 1/15\n",
            "42000/42000 [==============================] - 9s 224us/step - loss: 1.9400 - acc: 0.3015 - val_loss: 1.7747 - val_acc: 0.3486\n",
            "Epoch 2/15\n",
            "42000/42000 [==============================] - 8s 196us/step - loss: 1.6420 - acc: 0.4233 - val_loss: 1.6495 - val_acc: 0.4156\n",
            "Epoch 3/15\n",
            "42000/42000 [==============================] - 8s 190us/step - loss: 1.5281 - acc: 0.4611 - val_loss: 1.7288 - val_acc: 0.3874\n",
            "Epoch 4/15\n",
            "42000/42000 [==============================] - 8s 187us/step - loss: 1.4493 - acc: 0.4876 - val_loss: 1.6414 - val_acc: 0.4104\n",
            "Epoch 5/15\n",
            "42000/42000 [==============================] - 8s 189us/step - loss: 1.3883 - acc: 0.5103 - val_loss: 1.8140 - val_acc: 0.3867\n",
            "Epoch 6/15\n",
            "42000/42000 [==============================] - 8s 187us/step - loss: 1.3316 - acc: 0.5321 - val_loss: 1.5558 - val_acc: 0.4427\n",
            "Epoch 7/15\n",
            "42000/42000 [==============================] - 8s 186us/step - loss: 1.2770 - acc: 0.5488 - val_loss: 1.6755 - val_acc: 0.4158\n",
            "Epoch 8/15\n",
            "42000/42000 [==============================] - 8s 189us/step - loss: 1.2281 - acc: 0.5670 - val_loss: 1.6759 - val_acc: 0.4036\n",
            "Epoch 9/15\n",
            "42000/42000 [==============================] - 8s 187us/step - loss: 1.1779 - acc: 0.5870 - val_loss: 1.5556 - val_acc: 0.4616\n",
            "Epoch 10/15\n",
            "42000/42000 [==============================] - 8s 188us/step - loss: 1.1328 - acc: 0.6035 - val_loss: 1.6625 - val_acc: 0.4555\n",
            "Epoch 11/15\n",
            "42000/42000 [==============================] - 8s 189us/step - loss: 1.0820 - acc: 0.6199 - val_loss: 1.7184 - val_acc: 0.4278\n",
            "Epoch 12/15\n",
            "42000/42000 [==============================] - 8s 187us/step - loss: 1.0331 - acc: 0.6399 - val_loss: 1.5975 - val_acc: 0.4860\n",
            "Epoch 13/15\n",
            "42000/42000 [==============================] - 8s 187us/step - loss: 0.9807 - acc: 0.6555 - val_loss: 1.9344 - val_acc: 0.3976\n",
            "Epoch 14/15\n",
            "42000/42000 [==============================] - 8s 189us/step - loss: 0.9380 - acc: 0.6741 - val_loss: 3.0583 - val_acc: 0.3056\n",
            "Epoch 15/15\n",
            "42000/42000 [==============================] - 8s 189us/step - loss: 0.8875 - acc: 0.6934 - val_loss: 2.0459 - val_acc: 0.4199\n",
            "10000/10000 [==============================] - 1s 128us/step\n",
            "Test loss: 2.040828386306763\n",
            "Test accuracy: 0.4144\n"
          ],
          "name": "stdout"
        }
      ]
    },
    {
      "metadata": {
        "id": "qPXoPKhZ9djq",
        "colab_type": "text"
      },
      "cell_type": "markdown",
      "source": [
        "## Batch Size =256 and Learning rate =0.01\n",
        "\n"
      ]
    },
    {
      "metadata": {
        "id": "i8LsSW2eyOGY",
        "colab_type": "code",
        "colab": {
          "base_uri": "https://localhost:8080/",
          "height": 595
        },
        "outputId": "aa481bb7-79f9-491e-93d2-c81ae75f56bc"
      },
      "cell_type": "code",
      "source": [
        "CNN_3D(256,0.01)"
      ],
      "execution_count": 124,
      "outputs": [
        {
          "output_type": "stream",
          "text": [
            "Train on 42000 samples, validate on 8000 samples\n",
            "Epoch 1/15\n",
            "42000/42000 [==============================] - 8s 188us/step - loss: 2.0482 - acc: 0.2608 - val_loss: 2.2851 - val_acc: 0.1668\n",
            "Epoch 2/15\n",
            "42000/42000 [==============================] - 7s 165us/step - loss: 1.7637 - acc: 0.3790 - val_loss: 2.0144 - val_acc: 0.2931\n",
            "Epoch 3/15\n",
            "42000/42000 [==============================] - 7s 166us/step - loss: 1.6479 - acc: 0.4230 - val_loss: 2.2220 - val_acc: 0.2611\n",
            "Epoch 4/15\n",
            "42000/42000 [==============================] - 7s 164us/step - loss: 1.5907 - acc: 0.4417 - val_loss: 2.1135 - val_acc: 0.3216\n",
            "Epoch 5/15\n",
            "42000/42000 [==============================] - 7s 165us/step - loss: 1.5252 - acc: 0.4657 - val_loss: 1.8044 - val_acc: 0.3588\n",
            "Epoch 6/15\n",
            "42000/42000 [==============================] - 7s 165us/step - loss: 1.4798 - acc: 0.4832 - val_loss: 1.9297 - val_acc: 0.3275\n",
            "Epoch 7/15\n",
            "42000/42000 [==============================] - 7s 165us/step - loss: 1.4371 - acc: 0.4976 - val_loss: 1.9971 - val_acc: 0.3432\n",
            "Epoch 8/15\n",
            "42000/42000 [==============================] - 7s 165us/step - loss: 1.4005 - acc: 0.5075 - val_loss: 2.0480 - val_acc: 0.3444\n",
            "Epoch 9/15\n",
            "42000/42000 [==============================] - 7s 164us/step - loss: 1.3696 - acc: 0.5216 - val_loss: 1.8032 - val_acc: 0.3879\n",
            "Epoch 10/15\n",
            "42000/42000 [==============================] - 7s 165us/step - loss: 1.3293 - acc: 0.5345 - val_loss: 1.6022 - val_acc: 0.4436\n",
            "Epoch 11/15\n",
            "42000/42000 [==============================] - 7s 164us/step - loss: 1.3008 - acc: 0.5459 - val_loss: 1.8668 - val_acc: 0.4049\n",
            "Epoch 12/15\n",
            "42000/42000 [==============================] - 7s 165us/step - loss: 1.2675 - acc: 0.5552 - val_loss: 1.8984 - val_acc: 0.3752\n",
            "Epoch 13/15\n",
            "42000/42000 [==============================] - 7s 163us/step - loss: 1.2446 - acc: 0.5653 - val_loss: 1.6700 - val_acc: 0.4469\n",
            "Epoch 14/15\n",
            "42000/42000 [==============================] - 7s 162us/step - loss: 1.2088 - acc: 0.5787 - val_loss: 1.9554 - val_acc: 0.3523\n",
            "Epoch 15/15\n",
            "42000/42000 [==============================] - 7s 164us/step - loss: 1.1786 - acc: 0.5884 - val_loss: 1.9970 - val_acc: 0.3605\n",
            "10000/10000 [==============================] - 1s 120us/step\n",
            "Test loss: 1.963394779586792\n",
            "Test accuracy: 0.3742\n"
          ],
          "name": "stdout"
        }
      ]
    },
    {
      "metadata": {
        "id": "Fwy2ZsZU9uXA",
        "colab_type": "text"
      },
      "cell_type": "markdown",
      "source": [
        "## Batch Size =256 and Learning rate =0.05"
      ]
    },
    {
      "metadata": {
        "id": "IcNjWazt7zo3",
        "colab_type": "code",
        "colab": {
          "base_uri": "https://localhost:8080/",
          "height": 595
        },
        "outputId": "e2d25c89-1bf9-4d6a-b55d-fd59a1f07b73"
      },
      "cell_type": "code",
      "source": [
        "CNN_3D(256,0.05)"
      ],
      "execution_count": 126,
      "outputs": [
        {
          "output_type": "stream",
          "text": [
            "Train on 42000 samples, validate on 8000 samples\n",
            "Epoch 1/15\n",
            "42000/42000 [==============================] - 8s 193us/step - loss: 2.0433 - acc: 0.2642 - val_loss: 2.2590 - val_acc: 0.2018\n",
            "Epoch 2/15\n",
            "42000/42000 [==============================] - 7s 165us/step - loss: 1.7500 - acc: 0.3794 - val_loss: 1.9186 - val_acc: 0.3137\n",
            "Epoch 3/15\n",
            "42000/42000 [==============================] - 7s 163us/step - loss: 1.6374 - acc: 0.4232 - val_loss: 1.9311 - val_acc: 0.3287\n",
            "Epoch 4/15\n",
            "42000/42000 [==============================] - 7s 164us/step - loss: 1.5651 - acc: 0.4482 - val_loss: 1.6596 - val_acc: 0.4149\n",
            "Epoch 5/15\n",
            "42000/42000 [==============================] - 7s 164us/step - loss: 1.5057 - acc: 0.4741 - val_loss: 2.0450 - val_acc: 0.3410\n",
            "Epoch 6/15\n",
            "42000/42000 [==============================] - 7s 164us/step - loss: 1.4693 - acc: 0.4865 - val_loss: 2.2267 - val_acc: 0.3211\n",
            "Epoch 7/15\n",
            "42000/42000 [==============================] - 7s 166us/step - loss: 1.4291 - acc: 0.5001 - val_loss: 1.7072 - val_acc: 0.4093\n",
            "Epoch 8/15\n",
            "42000/42000 [==============================] - 7s 165us/step - loss: 1.3910 - acc: 0.5105 - val_loss: 1.7549 - val_acc: 0.3996\n",
            "Epoch 9/15\n",
            "42000/42000 [==============================] - 7s 164us/step - loss: 1.3563 - acc: 0.5234 - val_loss: 1.7253 - val_acc: 0.3870\n",
            "Epoch 10/15\n",
            "42000/42000 [==============================] - 7s 165us/step - loss: 1.3240 - acc: 0.5362 - val_loss: 2.2013 - val_acc: 0.3448\n",
            "Epoch 11/15\n",
            "42000/42000 [==============================] - 7s 163us/step - loss: 1.3017 - acc: 0.5410 - val_loss: 1.6904 - val_acc: 0.4168\n",
            "Epoch 12/15\n",
            "42000/42000 [==============================] - 7s 162us/step - loss: 1.2627 - acc: 0.5570 - val_loss: 2.0527 - val_acc: 0.3439\n",
            "Epoch 13/15\n",
            "42000/42000 [==============================] - 7s 163us/step - loss: 1.2371 - acc: 0.5674 - val_loss: 2.0542 - val_acc: 0.3400\n",
            "Epoch 14/15\n",
            "42000/42000 [==============================] - 7s 163us/step - loss: 1.2070 - acc: 0.5759 - val_loss: 1.5310 - val_acc: 0.4701\n",
            "Epoch 15/15\n",
            "42000/42000 [==============================] - 7s 164us/step - loss: 1.1766 - acc: 0.5884 - val_loss: 2.2638 - val_acc: 0.3550\n",
            "10000/10000 [==============================] - 1s 119us/step\n",
            "Test loss: 2.2694004516601565\n",
            "Test accuracy: 0.3562\n"
          ],
          "name": "stdout"
        }
      ]
    },
    {
      "metadata": {
        "id": "vyOYaETg9B5l",
        "colab_type": "code",
        "colab": {}
      },
      "cell_type": "code",
      "source": [
        ""
      ],
      "execution_count": 0,
      "outputs": []
    },
    {
      "metadata": {
        "id": "08wxf22W949r",
        "colab_type": "text"
      },
      "cell_type": "markdown",
      "source": [
        "# Inference\n",
        "\n",
        "#### For 15 epochs the model didnt converged to good result but among different choices of batch size and Learning rate \n",
        "####  Batch size =128 and learning rate =0.01 gave good Test accuracy of 49%\n",
        "\n",
        "####  With the Batch size of 128 updates are frequent than 256 batch size and The learning rate 0.01 gave stable convergence"
      ]
    }
  ]
}